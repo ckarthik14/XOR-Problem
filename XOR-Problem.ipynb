{
 "cells": [
  {
   "cell_type": "code",
   "execution_count": 1,
   "metadata": {},
   "outputs": [
    {
     "name": "stderr",
     "output_type": "stream",
     "text": [
      "Using TensorFlow backend.\n"
     ]
    }
   ],
   "source": [
    "import pandas as pd\n",
    "import numpy as np\n",
    "\n",
    "import keras\n",
    "from keras.models import Sequential\n",
    "from keras.layers import Dense\n",
    "from keras.optimizers import RMSprop"
   ]
  },
  {
   "cell_type": "code",
   "execution_count": 2,
   "metadata": {},
   "outputs": [
    {
     "name": "stdout",
     "output_type": "stream",
     "text": [
      "[[0, 0, 0], [0, 1, 1], [1, 0, 1], [1, 1, 0]]\n"
     ]
    }
   ],
   "source": [
    "data = [\n",
    "    [0, 0, 0],\n",
    "    [0, 1, 1],\n",
    "    [1, 0, 1],\n",
    "    [1, 1, 0],\n",
    "]\n",
    "\n",
    "# for i in range(1500):\n",
    "#     for j in range(4):\n",
    "#         data.append(data[j])\n",
    "\n",
    "print(data)"
   ]
  },
  {
   "cell_type": "code",
   "execution_count": 3,
   "metadata": {},
   "outputs": [
    {
     "name": "stdout",
     "output_type": "stream",
     "text": [
      "[[0 0]\n",
      " [0 1]\n",
      " [1 0]\n",
      " [1 1]]\n",
      "[0 1 1 0]\n"
     ]
    }
   ],
   "source": [
    "data = np.array(data)\n",
    "\n",
    "train_X, train_Y = data[:,:2], data[:,2]\n",
    "\n",
    "print(train_X)\n",
    "print(train_Y)"
   ]
  },
  {
   "cell_type": "code",
   "execution_count": null,
   "metadata": {},
   "outputs": [],
   "source": [
    "# Testing best weight initialization\n",
    "for i in range(1,11):\n",
    "    model = Sequential()\n",
    "\n",
    "    xavier = keras.initializers.glorot_normal(seed=i)\n",
    "\n",
    "    model.add(Dense(2, activation='sigmoid', input_dim = 2, kernel_initializer=xavier))\n",
    "    model.add(Dense(1, activation='sigmoid', kernel_initializer=xavier))\n",
    "\n",
    "    rms = RMSprop(lr=0.001)\n",
    "\n",
    "    model.compile(optimizer=rms,\n",
    "                  loss='binary_crossentropy',\n",
    "                  metrics=['accuracy'])\n",
    "\n",
    "    model.fit(train_X, train_Y, epochs=2500, verbose=2, shuffle=True)"
   ]
  },
  {
   "cell_type": "code",
   "execution_count": null,
   "metadata": {},
   "outputs": [],
   "source": [
    "# Working Model\n",
    "model = Sequential()\n",
    "\n",
    "xavier = keras.initializers.glorot_normal(seed=4)\n",
    "\n",
    "model.add(Dense(2, activation='sigmoid', input_dim = 2, kernel_initializer=xavier))\n",
    "model.add(Dense(1, activation='sigmoid', kernel_initializer=xavier))\n",
    "\n",
    "rms = RMSprop(lr=0.001)\n",
    "\n",
    "model.compile(optimizer=rms,\n",
    "              loss='binary_crossentropy',\n",
    "              metrics=['accuracy'])\n",
    "\n",
    "model.fit(train_X, train_Y, epochs=5000, verbose=2, shuffle=True)"
   ]
  },
  {
   "cell_type": "code",
   "execution_count": 6,
   "metadata": {},
   "outputs": [
    {
     "name": "stdout",
     "output_type": "stream",
     "text": [
      "[array([[ 5.046769 ,  4.9747996],\n",
      "       [-5.0586524, -4.8853645]], dtype=float32), array([-2.9637446,  2.7950175], dtype=float32)]\n",
      "[array([[ 5.053264],\n",
      "       [-4.891611]], dtype=float32), array([2.4203458], dtype=float32)]\n"
     ]
    }
   ],
   "source": [
    "weight_layer1 = model.layers[0].get_weights()\n",
    "weight_layer2 = model.layers[1].get_weights()\n",
    "\n",
    "print(weight_layer1)\n",
    "print(weight_layer2)"
   ]
  },
  {
   "cell_type": "code",
   "execution_count": 7,
   "metadata": {},
   "outputs": [
    {
     "name": "stdout",
     "output_type": "stream",
     "text": [
      "[[0.12548664]\n",
      " [0.8680398 ]\n",
      " [0.8833327 ]\n",
      " [0.12270248]]\n"
     ]
    }
   ],
   "source": [
    "ip = np.array([[0, 0], [0, 1], [1, 0], [1, 1]])\n",
    "\n",
    "res = model.predict(ip)\n",
    "\n",
    "print(res)"
   ]
  },
  {
   "cell_type": "code",
   "execution_count": null,
   "metadata": {},
   "outputs": [],
   "source": []
  }
 ],
 "metadata": {
  "kernelspec": {
   "display_name": "Python 3",
   "language": "python",
   "name": "python3"
  },
  "language_info": {
   "codemirror_mode": {
    "name": "ipython",
    "version": 3
   },
   "file_extension": ".py",
   "mimetype": "text/x-python",
   "name": "python",
   "nbconvert_exporter": "python",
   "pygments_lexer": "ipython3",
   "version": "3.6.8"
  }
 },
 "nbformat": 4,
 "nbformat_minor": 2
}
